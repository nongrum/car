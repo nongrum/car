{
  "cells": [
    {
      "cell_type": "code",
      "execution_count": 1,
      "metadata": {
        "colab": {
          "base_uri": "https://localhost:8080/"
        },
        "id": "gf0HkByynGur",
        "outputId": "8f3da440-9fd9-41d0-cfab-36d199cc1263"
      },
      "outputs": [
        {
          "name": "stdout",
          "output_type": "stream",
          "text": [
            "Mounted at /content/drive\n"
          ]
        }
      ],
      "source": [
        "from google.colab import drive\n",
        "drive.mount('/content/drive')"
      ]
    },
    {
      "cell_type": "code",
      "execution_count": null,
      "metadata": {
        "id": "9vSWbftLoKf3"
      },
      "outputs": [],
      "source": [
        "import pandas as pd\n",
        "path =\"/content/drive/MyDrive/cars.csv\"\n",
        "df = pd.read_csv(path)\n",
        "print(df.head())\n"
      ]
    },
    {
      "cell_type": "code",
      "execution_count": null,
      "metadata": {
        "id": "B6jxLNxIpjRP"
      },
      "outputs": [],
      "source": [
        "print(df.isnull().sum())\n",
        " "
      ]
    },
    {
      "cell_type": "code",
      "execution_count": null,
      "metadata": {
        "id": "yBd8rRSipqrW"
      },
      "outputs": [],
      "source": [
        "df.fillna(df.mean() , inplace = True)\n",
        "print(df.isnull().sum())"
      ]
    },
    {
      "cell_type": "code",
      "execution_count": null,
      "metadata": {
        "id": "r81ZXGTMrg-o"
      },
      "outputs": [],
      "source": [
        "print(df['Make'].unique())\n",
        "print(df['Make'].value_counts())"
      ]
    },
    {
      "cell_type": "code",
      "execution_count": null,
      "metadata": {
        "id": "IUNcVnUDroqH"
      },
      "outputs": [],
      "source": [
        "print(df[(df['Origin'] ==\"Aisa\")| (df['Origin']=='Europe')])"
      ]
    },
    {
      "cell_type": "code",
      "execution_count": 11,
      "metadata": {
        "id": "3lpsuPkvr2wg"
      },
      "outputs": [],
      "source": [
        "df = df[df['Weight'] <= 4000]"
      ]
    },
    {
      "cell_type": "code",
      "execution_count": 14,
      "metadata": {
        "id": "XSTrpJWtsC1Q"
      },
      "outputs": [],
      "source": [
        "df_copy = df.copy()\n",
        "df_copy['MPG_City'] += 3"
      ]
    }
  ],
  "metadata": {
    "colab": {
      "provenance": [],
      "toc_visible": true
    },
    "kernelspec": {
      "display_name": "Python 3",
      "name": "python3"
    },
    "language_info": {
      "name": "python"
    }
  },
  "nbformat": 4,
  "nbformat_minor": 0
}
